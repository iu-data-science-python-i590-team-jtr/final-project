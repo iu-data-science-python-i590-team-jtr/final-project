{
 "cells": [
  {
   "cell_type": "markdown",
   "metadata": {},
   "source": [
    "# Phase 1 Consolidated Contributions"
   ]
  },
  {
   "cell_type": "markdown",
   "metadata": {},
   "source": [
    "#### Environment Specific Detials:\n",
    "\n",
    "- Python version: 3.71\n",
    "- IDE: Jupyter Notebook (core, without Aanaconda)\n"
   ]
  },
  {
   "cell_type": "markdown",
   "metadata": {},
   "source": [
    "**Notebook setup**\n",
    "\n",
    "1. Import Libraries\n",
    "2. set environmental variables\n",
    "3. Import Data"
   ]
  },
  {
   "cell_type": "code",
   "execution_count": 1,
   "metadata": {},
   "outputs": [],
   "source": [
    "#import Libraries\n",
    "import os\n",
    "import pandas as pd \n",
    "import numpy as np\n",
    "import matplotlib.pyplot as plt\n",
    "from scipy.stats import norm\n",
    "from scipy import stats"
   ]
  },
  {
   "cell_type": "code",
   "execution_count": 13,
   "metadata": {},
   "outputs": [],
   "source": [
    "#set environmental variables\n",
    "pd.set_option('display.max_rows', 20)\n",
    "from IPython.core.interactiveshell import InteractiveShell\n",
    "InteractiveShell.ast_node_interactivity = \"all\""
   ]
  },
  {
   "cell_type": "markdown",
   "metadata": {},
   "source": [
    "**Data loading may require changing directory**"
   ]
  },
  {
   "cell_type": "code",
   "execution_count": 3,
   "metadata": {},
   "outputs": [],
   "source": [
    "!"
   ]
  },
  {
   "cell_type": "code",
   "execution_count": 4,
   "metadata": {},
   "outputs": [
    {
     "name": "stdout",
     "output_type": "stream",
     "text": [
      " Volume in drive C has no label.\n",
      " Volume Serial Number is 825D-A908\n",
      "\n",
      " Directory of C:\\Program Files (x86)\\Python37-32\\Jupyter\n",
      "\n",
      "11/18/2018  11:39 AM    <DIR>          .\n",
      "11/18/2018  11:39 AM    <DIR>          ..\n",
      "11/18/2018  11:39 AM    <DIR>          .ipynb_checkpoints\n",
      "11/17/2018  04:14 PM    <DIR>          DataSets\n",
      "11/18/2018  11:38 AM             4,297 i590_FinalProject_Phase1_Consolidated.ipynb\n",
      "11/11/2018  04:31 PM    <DIR>          notebooks\n",
      "11/17/2018  03:55 PM            43,905 Phase1_Rushi.ipynb\n",
      "11/11/2018  02:18 PM    <DIR>          py files\n",
      "11/18/2018  11:30 AM           321,697 Rushi_Phase1_FinalProject.ipynb\n",
      "11/18/2018  11:39 AM                72 Untitled.ipynb\n",
      "               4 File(s)        369,971 bytes\n",
      "               6 Dir(s)  188,462,944,256 bytes free\n"
     ]
    }
   ],
   "source": [
    "ls"
   ]
  },
  {
   "cell_type": "code",
   "execution_count": 5,
   "metadata": {},
   "outputs": [],
   "source": [
    "#change directory to the data sets folder\n",
    "os.chdir('DataSets')"
   ]
  },
  {
   "cell_type": "code",
   "execution_count": 6,
   "metadata": {},
   "outputs": [],
   "source": [
    "#actual data import into pandas data frame\n",
    "bcd = pd.read_csv('BreastCancer.csv')"
   ]
  },
  {
   "cell_type": "markdown",
   "metadata": {},
   "source": [
    "1. **Adding meaningful names to columns**\n",
    "2. **Address missing values**"
   ]
  },
  {
   "cell_type": "code",
   "execution_count": 22,
   "metadata": {},
   "outputs": [],
   "source": [
    "bcd = bcd.rename(columns={'Scn': 'id', 'A2':'clump_thick', 'A3':'uni_cell_size', 'A4':'uni_cell_shape', 'A5':'marg_adhesion', 'A6':'single_cell_size', \n",
    "                          'A7':'bare_nuc', 'A8':'bland_chromatin','A9':'normal_nuc', 'A10':'mitoses'})"
   ]
  },
  {
   "cell_type": "code",
   "execution_count": 20,
   "metadata": {},
   "outputs": [
    {
     "data": {
      "text/plain": [
       "0       1.0\n",
       "1      10.0\n",
       "2       2.0\n",
       "3       4.0\n",
       "4       1.0\n",
       "5      10.0\n",
       "6      10.0\n",
       "7       1.0\n",
       "8       1.0\n",
       "9       1.0\n",
       "       ... \n",
       "689     1.0\n",
       "690     1.0\n",
       "691     5.0\n",
       "692     1.0\n",
       "693     1.0\n",
       "694     2.0\n",
       "695     1.0\n",
       "696     3.0\n",
       "697     4.0\n",
       "698     5.0\n",
       "Name: A7, Length: 699, dtype: float64"
      ]
     },
     "execution_count": 20,
     "metadata": {},
     "output_type": "execute_result"
    }
   ],
   "source": [
    "bcd.A7.replace('?', np.NaN)"
   ]
  },
  {
   "cell_type": "code",
   "execution_count": 9,
   "metadata": {},
   "outputs": [],
   "source": [
    " bcd['A7'] = pd.to_numeric(bcd['A7'], errors='coerce')"
   ]
  },
  {
   "cell_type": "code",
   "execution_count": 10,
   "metadata": {},
   "outputs": [
    {
     "data": {
      "text/plain": [
       "16"
      ]
     },
     "execution_count": 10,
     "metadata": {},
     "output_type": "execute_result"
    }
   ],
   "source": [
    "bcd['A7'].isna().sum()"
   ]
  },
  {
   "cell_type": "code",
   "execution_count": 11,
   "metadata": {},
   "outputs": [],
   "source": [
    "bcd.fillna(bcd.mean(), inplace=True)"
   ]
  },
  {
   "cell_type": "code",
   "execution_count": 14,
   "metadata": {},
   "outputs": [
    {
     "name": "stdout",
     "output_type": "stream",
     "text": [
      "Scn      0\n",
      "A2       0\n",
      "A3       0\n",
      "A4       0\n",
      "A5       0\n",
      "A6       0\n",
      "A7       0\n",
      "A8       0\n",
      "A9       0\n",
      "A10      0\n",
      "CLASS    0\n",
      "dtype: int64\n"
     ]
    }
   ],
   "source": [
    "print(bcd.isna().sum())"
   ]
  },
  {
   "cell_type": "markdown",
   "metadata": {},
   "source": [
    "## Exploratory Data Analysis"
   ]
  },
  {
   "cell_type": "code",
   "execution_count": 23,
   "metadata": {},
   "outputs": [
    {
     "data": {
      "text/html": [
       "<div>\n",
       "<style scoped>\n",
       "    .dataframe tbody tr th:only-of-type {\n",
       "        vertical-align: middle;\n",
       "    }\n",
       "\n",
       "    .dataframe tbody tr th {\n",
       "        vertical-align: top;\n",
       "    }\n",
       "\n",
       "    .dataframe thead th {\n",
       "        text-align: right;\n",
       "    }\n",
       "</style>\n",
       "<table border=\"1\" class=\"dataframe\">\n",
       "  <thead>\n",
       "    <tr style=\"text-align: right;\">\n",
       "      <th></th>\n",
       "      <th>id</th>\n",
       "      <th>clump_thick</th>\n",
       "      <th>uni_cell_size</th>\n",
       "      <th>uni_cell_shape</th>\n",
       "      <th>marg_adhesion</th>\n",
       "      <th>single_cell_size</th>\n",
       "      <th>bare_nuc</th>\n",
       "      <th>bland_chromatin</th>\n",
       "      <th>normal_nuc</th>\n",
       "      <th>mitoses</th>\n",
       "      <th>CLASS</th>\n",
       "    </tr>\n",
       "  </thead>\n",
       "  <tbody>\n",
       "    <tr>\n",
       "      <th>count</th>\n",
       "      <td>6.990000e+02</td>\n",
       "      <td>699.000000</td>\n",
       "      <td>699.000000</td>\n",
       "      <td>699.000000</td>\n",
       "      <td>699.000000</td>\n",
       "      <td>699.000000</td>\n",
       "      <td>699.000000</td>\n",
       "      <td>699.000000</td>\n",
       "      <td>699.000000</td>\n",
       "      <td>699.000000</td>\n",
       "      <td>699.000000</td>\n",
       "    </tr>\n",
       "    <tr>\n",
       "      <th>mean</th>\n",
       "      <td>1.071704e+06</td>\n",
       "      <td>4.417740</td>\n",
       "      <td>3.134478</td>\n",
       "      <td>3.207439</td>\n",
       "      <td>2.806867</td>\n",
       "      <td>3.216023</td>\n",
       "      <td>3.544656</td>\n",
       "      <td>3.437768</td>\n",
       "      <td>2.866953</td>\n",
       "      <td>1.589413</td>\n",
       "      <td>2.689557</td>\n",
       "    </tr>\n",
       "    <tr>\n",
       "      <th>std</th>\n",
       "      <td>6.170957e+05</td>\n",
       "      <td>2.815741</td>\n",
       "      <td>3.051459</td>\n",
       "      <td>2.971913</td>\n",
       "      <td>2.855379</td>\n",
       "      <td>2.214300</td>\n",
       "      <td>3.601852</td>\n",
       "      <td>2.438364</td>\n",
       "      <td>3.053634</td>\n",
       "      <td>1.715078</td>\n",
       "      <td>0.951273</td>\n",
       "    </tr>\n",
       "    <tr>\n",
       "      <th>min</th>\n",
       "      <td>6.163400e+04</td>\n",
       "      <td>1.000000</td>\n",
       "      <td>1.000000</td>\n",
       "      <td>1.000000</td>\n",
       "      <td>1.000000</td>\n",
       "      <td>1.000000</td>\n",
       "      <td>1.000000</td>\n",
       "      <td>1.000000</td>\n",
       "      <td>1.000000</td>\n",
       "      <td>1.000000</td>\n",
       "      <td>2.000000</td>\n",
       "    </tr>\n",
       "    <tr>\n",
       "      <th>25%</th>\n",
       "      <td>8.706885e+05</td>\n",
       "      <td>2.000000</td>\n",
       "      <td>1.000000</td>\n",
       "      <td>1.000000</td>\n",
       "      <td>1.000000</td>\n",
       "      <td>2.000000</td>\n",
       "      <td>1.000000</td>\n",
       "      <td>2.000000</td>\n",
       "      <td>1.000000</td>\n",
       "      <td>1.000000</td>\n",
       "      <td>2.000000</td>\n",
       "    </tr>\n",
       "    <tr>\n",
       "      <th>50%</th>\n",
       "      <td>1.171710e+06</td>\n",
       "      <td>4.000000</td>\n",
       "      <td>1.000000</td>\n",
       "      <td>1.000000</td>\n",
       "      <td>1.000000</td>\n",
       "      <td>2.000000</td>\n",
       "      <td>1.000000</td>\n",
       "      <td>3.000000</td>\n",
       "      <td>1.000000</td>\n",
       "      <td>1.000000</td>\n",
       "      <td>2.000000</td>\n",
       "    </tr>\n",
       "    <tr>\n",
       "      <th>75%</th>\n",
       "      <td>1.238298e+06</td>\n",
       "      <td>6.000000</td>\n",
       "      <td>5.000000</td>\n",
       "      <td>5.000000</td>\n",
       "      <td>4.000000</td>\n",
       "      <td>4.000000</td>\n",
       "      <td>5.000000</td>\n",
       "      <td>5.000000</td>\n",
       "      <td>4.000000</td>\n",
       "      <td>1.000000</td>\n",
       "      <td>4.000000</td>\n",
       "    </tr>\n",
       "    <tr>\n",
       "      <th>max</th>\n",
       "      <td>1.345435e+07</td>\n",
       "      <td>10.000000</td>\n",
       "      <td>10.000000</td>\n",
       "      <td>10.000000</td>\n",
       "      <td>10.000000</td>\n",
       "      <td>10.000000</td>\n",
       "      <td>10.000000</td>\n",
       "      <td>10.000000</td>\n",
       "      <td>10.000000</td>\n",
       "      <td>10.000000</td>\n",
       "      <td>4.000000</td>\n",
       "    </tr>\n",
       "  </tbody>\n",
       "</table>\n",
       "</div>"
      ],
      "text/plain": [
       "                 id  clump_thick  uni_cell_size  uni_cell_shape  \\\n",
       "count  6.990000e+02   699.000000     699.000000      699.000000   \n",
       "mean   1.071704e+06     4.417740       3.134478        3.207439   \n",
       "std    6.170957e+05     2.815741       3.051459        2.971913   \n",
       "min    6.163400e+04     1.000000       1.000000        1.000000   \n",
       "25%    8.706885e+05     2.000000       1.000000        1.000000   \n",
       "50%    1.171710e+06     4.000000       1.000000        1.000000   \n",
       "75%    1.238298e+06     6.000000       5.000000        5.000000   \n",
       "max    1.345435e+07    10.000000      10.000000       10.000000   \n",
       "\n",
       "       marg_adhesion  single_cell_size    bare_nuc  bland_chromatin  \\\n",
       "count     699.000000        699.000000  699.000000       699.000000   \n",
       "mean        2.806867          3.216023    3.544656         3.437768   \n",
       "std         2.855379          2.214300    3.601852         2.438364   \n",
       "min         1.000000          1.000000    1.000000         1.000000   \n",
       "25%         1.000000          2.000000    1.000000         2.000000   \n",
       "50%         1.000000          2.000000    1.000000         3.000000   \n",
       "75%         4.000000          4.000000    5.000000         5.000000   \n",
       "max        10.000000         10.000000   10.000000        10.000000   \n",
       "\n",
       "       normal_nuc     mitoses       CLASS  \n",
       "count  699.000000  699.000000  699.000000  \n",
       "mean     2.866953    1.589413    2.689557  \n",
       "std      3.053634    1.715078    0.951273  \n",
       "min      1.000000    1.000000    2.000000  \n",
       "25%      1.000000    1.000000    2.000000  \n",
       "50%      1.000000    1.000000    2.000000  \n",
       "75%      4.000000    1.000000    4.000000  \n",
       "max     10.000000   10.000000    4.000000  "
      ]
     },
     "execution_count": 23,
     "metadata": {},
     "output_type": "execute_result"
    }
   ],
   "source": [
    "bcd.describe()"
   ]
  },
  {
   "cell_type": "code",
   "execution_count": 27,
   "metadata": {},
   "outputs": [
    {
     "data": {
      "text/plain": [
       "clump_thick          7.928395\n",
       "uni_cell_size        9.311403\n",
       "uni_cell_shape       8.832265\n",
       "marg_adhesion        8.153191\n",
       "single_cell_size     4.903124\n",
       "bare_nuc            12.973335\n",
       "bland_chromatin      5.945620\n",
       "normal_nuc           9.324680\n",
       "mitoses              2.941492\n",
       "dtype: float64"
      ]
     },
     "execution_count": 27,
     "metadata": {},
     "output_type": "execute_result"
    }
   ],
   "source": [
    "#Display varinace of each feature\n",
    "bcd.iloc[:, 1:10].var()"
   ]
  },
  {
   "cell_type": "code",
   "execution_count": 28,
   "metadata": {},
   "outputs": [
    {
     "data": {
      "text/html": [
       "<div>\n",
       "<style scoped>\n",
       "    .dataframe tbody tr th:only-of-type {\n",
       "        vertical-align: middle;\n",
       "    }\n",
       "\n",
       "    .dataframe tbody tr th {\n",
       "        vertical-align: top;\n",
       "    }\n",
       "\n",
       "    .dataframe thead th {\n",
       "        text-align: right;\n",
       "    }\n",
       "</style>\n",
       "<table border=\"1\" class=\"dataframe\">\n",
       "  <thead>\n",
       "    <tr style=\"text-align: right;\">\n",
       "      <th></th>\n",
       "      <th>clump_thick</th>\n",
       "      <th>uni_cell_size</th>\n",
       "      <th>uni_cell_shape</th>\n",
       "      <th>marg_adhesion</th>\n",
       "      <th>single_cell_size</th>\n",
       "      <th>bare_nuc</th>\n",
       "      <th>bland_chromatin</th>\n",
       "      <th>normal_nuc</th>\n",
       "      <th>mitoses</th>\n",
       "    </tr>\n",
       "  </thead>\n",
       "  <tbody>\n",
       "    <tr>\n",
       "      <th>clump_thick</th>\n",
       "      <td>1.000000</td>\n",
       "      <td>0.644913</td>\n",
       "      <td>0.654589</td>\n",
       "      <td>0.486356</td>\n",
       "      <td>0.521816</td>\n",
       "      <td>0.587300</td>\n",
       "      <td>0.558428</td>\n",
       "      <td>0.535835</td>\n",
       "      <td>0.350034</td>\n",
       "    </tr>\n",
       "    <tr>\n",
       "      <th>uni_cell_size</th>\n",
       "      <td>0.644913</td>\n",
       "      <td>1.000000</td>\n",
       "      <td>0.906882</td>\n",
       "      <td>0.705582</td>\n",
       "      <td>0.751799</td>\n",
       "      <td>0.686801</td>\n",
       "      <td>0.755721</td>\n",
       "      <td>0.722865</td>\n",
       "      <td>0.458693</td>\n",
       "    </tr>\n",
       "    <tr>\n",
       "      <th>uni_cell_shape</th>\n",
       "      <td>0.654589</td>\n",
       "      <td>0.906882</td>\n",
       "      <td>1.000000</td>\n",
       "      <td>0.683079</td>\n",
       "      <td>0.719668</td>\n",
       "      <td>0.709606</td>\n",
       "      <td>0.735948</td>\n",
       "      <td>0.719446</td>\n",
       "      <td>0.438911</td>\n",
       "    </tr>\n",
       "    <tr>\n",
       "      <th>marg_adhesion</th>\n",
       "      <td>0.486356</td>\n",
       "      <td>0.705582</td>\n",
       "      <td>0.683079</td>\n",
       "      <td>1.000000</td>\n",
       "      <td>0.599599</td>\n",
       "      <td>0.665049</td>\n",
       "      <td>0.666715</td>\n",
       "      <td>0.603352</td>\n",
       "      <td>0.417633</td>\n",
       "    </tr>\n",
       "    <tr>\n",
       "      <th>single_cell_size</th>\n",
       "      <td>0.521816</td>\n",
       "      <td>0.751799</td>\n",
       "      <td>0.719668</td>\n",
       "      <td>0.599599</td>\n",
       "      <td>1.000000</td>\n",
       "      <td>0.581261</td>\n",
       "      <td>0.616102</td>\n",
       "      <td>0.628881</td>\n",
       "      <td>0.479101</td>\n",
       "    </tr>\n",
       "    <tr>\n",
       "      <th>bare_nuc</th>\n",
       "      <td>0.587300</td>\n",
       "      <td>0.686801</td>\n",
       "      <td>0.709606</td>\n",
       "      <td>0.665049</td>\n",
       "      <td>0.581261</td>\n",
       "      <td>1.000000</td>\n",
       "      <td>0.675896</td>\n",
       "      <td>0.577362</td>\n",
       "      <td>0.338740</td>\n",
       "    </tr>\n",
       "    <tr>\n",
       "      <th>bland_chromatin</th>\n",
       "      <td>0.558428</td>\n",
       "      <td>0.755721</td>\n",
       "      <td>0.735948</td>\n",
       "      <td>0.666715</td>\n",
       "      <td>0.616102</td>\n",
       "      <td>0.675896</td>\n",
       "      <td>1.000000</td>\n",
       "      <td>0.665878</td>\n",
       "      <td>0.344169</td>\n",
       "    </tr>\n",
       "    <tr>\n",
       "      <th>normal_nuc</th>\n",
       "      <td>0.535835</td>\n",
       "      <td>0.722865</td>\n",
       "      <td>0.719446</td>\n",
       "      <td>0.603352</td>\n",
       "      <td>0.628881</td>\n",
       "      <td>0.577362</td>\n",
       "      <td>0.665878</td>\n",
       "      <td>1.000000</td>\n",
       "      <td>0.428336</td>\n",
       "    </tr>\n",
       "    <tr>\n",
       "      <th>mitoses</th>\n",
       "      <td>0.350034</td>\n",
       "      <td>0.458693</td>\n",
       "      <td>0.438911</td>\n",
       "      <td>0.417633</td>\n",
       "      <td>0.479101</td>\n",
       "      <td>0.338740</td>\n",
       "      <td>0.344169</td>\n",
       "      <td>0.428336</td>\n",
       "      <td>1.000000</td>\n",
       "    </tr>\n",
       "  </tbody>\n",
       "</table>\n",
       "</div>"
      ],
      "text/plain": [
       "                  clump_thick  uni_cell_size  uni_cell_shape  marg_adhesion  \\\n",
       "clump_thick          1.000000       0.644913        0.654589       0.486356   \n",
       "uni_cell_size        0.644913       1.000000        0.906882       0.705582   \n",
       "uni_cell_shape       0.654589       0.906882        1.000000       0.683079   \n",
       "marg_adhesion        0.486356       0.705582        0.683079       1.000000   \n",
       "single_cell_size     0.521816       0.751799        0.719668       0.599599   \n",
       "bare_nuc             0.587300       0.686801        0.709606       0.665049   \n",
       "bland_chromatin      0.558428       0.755721        0.735948       0.666715   \n",
       "normal_nuc           0.535835       0.722865        0.719446       0.603352   \n",
       "mitoses              0.350034       0.458693        0.438911       0.417633   \n",
       "\n",
       "                  single_cell_size  bare_nuc  bland_chromatin  normal_nuc  \\\n",
       "clump_thick               0.521816  0.587300         0.558428    0.535835   \n",
       "uni_cell_size             0.751799  0.686801         0.755721    0.722865   \n",
       "uni_cell_shape            0.719668  0.709606         0.735948    0.719446   \n",
       "marg_adhesion             0.599599  0.665049         0.666715    0.603352   \n",
       "single_cell_size          1.000000  0.581261         0.616102    0.628881   \n",
       "bare_nuc                  0.581261  1.000000         0.675896    0.577362   \n",
       "bland_chromatin           0.616102  0.675896         1.000000    0.665878   \n",
       "normal_nuc                0.628881  0.577362         0.665878    1.000000   \n",
       "mitoses                   0.479101  0.338740         0.344169    0.428336   \n",
       "\n",
       "                   mitoses  \n",
       "clump_thick       0.350034  \n",
       "uni_cell_size     0.458693  \n",
       "uni_cell_shape    0.438911  \n",
       "marg_adhesion     0.417633  \n",
       "single_cell_size  0.479101  \n",
       "bare_nuc          0.338740  \n",
       "bland_chromatin   0.344169  \n",
       "normal_nuc        0.428336  \n",
       "mitoses           1.000000  "
      ]
     },
     "execution_count": 28,
     "metadata": {},
     "output_type": "execute_result"
    }
   ],
   "source": [
    "bcd.iloc[:, 1:10].corr()"
   ]
  },
  {
   "cell_type": "markdown",
   "metadata": {},
   "source": [
    "**Pairs with Highest correlations are:**\n",
    "1. uniform_cellsize & uniform_cellshape (.91)\n",
    "2. uniform_cellsize & bland_chromatin (.76)\n",
    "3. uniform_cellsize & epithelial_cellsize (.75)"
   ]
  },
  {
   "cell_type": "code",
   "execution_count": 29,
   "metadata": {},
   "outputs": [
    {
     "data": {
      "text/plain": [
       "(699, 11)"
      ]
     },
     "execution_count": 29,
     "metadata": {},
     "output_type": "execute_result"
    }
   ],
   "source": [
    "bcd.shape"
   ]
  },
  {
   "cell_type": "code",
   "execution_count": 30,
   "metadata": {},
   "outputs": [
    {
     "name": "stdout",
     "output_type": "stream",
     "text": [
      "Unique Row Count: 645\n"
     ]
    }
   ],
   "source": [
    "print('Unique Row Count:', bcd['id'].nunique())"
   ]
  },
  {
   "cell_type": "markdown",
   "metadata": {},
   "source": [
    "There are 645 unique rows. The shape told us there are 699 rows. That means there are duplicate rows"
   ]
  },
  {
   "cell_type": "markdown",
   "metadata": {},
   "source": [
    "### Plots for futher data exploration"
   ]
  },
  {
   "cell_type": "code",
   "execution_count": 31,
   "metadata": {},
   "outputs": [],
   "source": [
    "bcd2 = bcd.iloc[:, 1:10]"
   ]
  },
  {
   "cell_type": "code",
   "execution_count": 32,
   "metadata": {},
   "outputs": [
    {
     "name": "stdout",
     "output_type": "stream",
     "text": [
      "   clump_thick  uni_cell_size  uni_cell_shape  marg_adhesion  \\\n",
      "0            5              1               1              1   \n",
      "1            5              4               4              5   \n",
      "2            3              1               1              1   \n",
      "3            6              8               8              1   \n",
      "4            4              1               1              3   \n",
      "\n",
      "   single_cell_size  bare_nuc  bland_chromatin  normal_nuc  mitoses  \n",
      "0                 2       1.0                3           1        1  \n",
      "1                 7      10.0                3           2        1  \n",
      "2                 2       2.0                3           1        1  \n",
      "3                 3       4.0                3           7        1  \n",
      "4                 2       1.0                3           1        1  \n"
     ]
    }
   ],
   "source": [
    "print(bcd2.head(n=5))"
   ]
  },
  {
   "cell_type": "code",
   "execution_count": 33,
   "metadata": {},
   "outputs": [
    {
     "data": {
      "image/png": "[encoded data removed]",
      "text/plain": [
       "<Figure size 432x288 with 9 Axes>"
      ]
     },
     "metadata": {
      "needs_background": "light"
     },
     "output_type": "display_data"
    }
   ],
   "source": [
    "hist = bcd2.iloc[:,1:10].hist(\n",
    "    grid = True, \n",
    "    bins = 10, \n",
    "    color = '#00215B',\n",
    "    alpha = 1.0\n",
    ")\n",
    "\n",
    "plt.tight_layout(rect=(0,0,1.2,1.2))"
   ]
  },
  {
   "cell_type": "code",
   "execution_count": 37,
   "metadata": {},
   "outputs": [
    {
     "data": {
      "text/plain": [
       "Text(0, 0.5, 'count')"
      ]
     },
     "execution_count": 37,
     "metadata": {},
     "output_type": "execute_result"
    },
    {
     "data": {
      "image/png": "[encoded data removed]",
      "text/plain": [
       "<Figure size 288x288 with 1 Axes>"
      ]
     },
     "metadata": {
      "needs_background": "light"
     },
     "output_type": "display_data"
    }
   ],
   "source": [
    "bar = bcd.groupby(['CLASS'])['id'].count().plot.bar(figsize=(4,4),color=('#7A1705','#333333'),title='Breast Cancer Diagnosis')\n",
    "plt.ylabel('count')"
   ]
  },
  {
   "cell_type": "code",
   "execution_count": 40,
   "metadata": {},
   "outputs": [
    {
     "data": {
      "text/plain": [
       "<matplotlib.collections.PathCollection at 0x1a49590>"
      ]
     },
     "execution_count": 40,
     "metadata": {},
     "output_type": "execute_result"
    },
    {
     "data": {
      "image/png": "[encoded data removed]",
      "text/plain": [
       "<Figure size 432x288 with 1 Axes>"
      ]
     },
     "metadata": {
      "needs_background": "light"
     },
     "output_type": "display_data"
    }
   ],
   "source": [
    "plt.scatter(bcd2.uni_cell_shape, bcd2.bare_nuc, marker='o')"
   ]
  },
  {
   "cell_type": "markdown",
   "metadata": {},
   "source": [
    "> Summarize by reporting which values might need standardization in the future (too much variation) and any other observations that you may discover as a Data Scientist."
   ]
  },
  {
   "cell_type": "markdown",
   "metadata": {},
   "source": [
    "- **Columns A7, A3, A9 all have standard deviation greater than 3. A standard normal distribution has sd of 1. Probably these columns at least could use standardization.**\n",
    "\n",
    "- **Beyond statics, I think there needs to a level of subject matter of expertise to make this decision. data scientist differentiate themselves from software developers and data engineers by having domian knowledge they marry with statics and data engineering**"
   ]
  },
  {
   "cell_type": "code",
   "execution_count": null,
   "metadata": {},
   "outputs": [],
   "source": []
  }
 ],
 "metadata": {
  "kernelspec": {
   "display_name": "Python 3",
   "language": "python",
   "name": "python3"
  },
  "language_info": {
   "codemirror_mode": {
    "name": "ipython",
    "version": 3
   },
   "file_extension": ".py",
   "mimetype": "text/x-python",
   "name": "python",
   "nbconvert_exporter": "python",
   "pygments_lexer": "ipython3",
   "version": "3.7.0"
  }
 },
 "nbformat": 4,
 "nbformat_minor": 2
}
