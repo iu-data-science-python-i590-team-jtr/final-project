{
 "cells": [
  {
   "cell_type": "markdown",
   "metadata": {},
   "source": [
    "# **Phase Three**"
   ]
  },
  {
   "cell_type": "markdown",
   "metadata": {},
   "source": [
    "- Working with manually fixed dataset to not carry any potential mistakes from Phase 1 & 2\n",
    "- Recreating bcd2\n",
    "- Copy of phase two notebook as starting point"
   ]
  },
  {
   "cell_type": "code",
   "execution_count": 2,
   "metadata": {},
   "outputs": [],
   "source": [
    "import os\n",
    "import pandas as pd \n",
    "import numpy as np\n",
    "import matplotlib.pyplot as plt\n",
    "from scipy.stats import norm\n",
    "from scipy import stats\n",
    "from sklearn.cluster import KMeans\n",
    "from statistics import mean\n",
    "from sklearn.cluster import KMeans\n",
    "from sklearn.pipeline import make_pipeline\n",
    "from sklearn.preprocessing import StandardScaler"
   ]
  },
  {
   "cell_type": "code",
   "execution_count": 3,
   "metadata": {},
   "outputs": [],
   "source": [
    "pd.set_option('display.max_rows', 15)"
   ]
  },
  {
   "cell_type": "code",
   "execution_count": 4,
   "metadata": {},
   "outputs": [],
   "source": [
    "!"
   ]
  },
  {
   "cell_type": "code",
   "execution_count": 5,
   "metadata": {},
   "outputs": [
    {
     "name": "stdout",
     "output_type": "stream",
     "text": [
      " Volume in drive C has no label.\n",
      " Volume Serial Number is 825D-A908\n",
      "\n",
      " Directory of C:\\Users\\rushi\\GitHub\\final-project\\Code\n",
      "\n",
      "12/08/2018  02:45 PM    <DIR>          .\n",
      "12/08/2018  02:45 PM    <DIR>          ..\n",
      "12/08/2018  10:26 AM    <DIR>          .ipynb_checkpoints\n",
      "12/08/2018  10:24 AM           322,940 Rushi_Phase1_FinalProject.ipynb\n",
      "12/08/2018  10:24 AM            78,594 Rushi_Phase2_FinalProject.ipynb\n",
      "12/08/2018  02:45 PM            18,847 Rushi_Phase3_FinalProject.ipynb\n",
      "               3 File(s)        420,381 bytes\n",
      "               3 Dir(s)  184,039,743,488 bytes free\n"
     ]
    }
   ],
   "source": [
    "ls"
   ]
  },
  {
   "cell_type": "markdown",
   "metadata": {},
   "source": [
    "**Change directory to where the data is**"
   ]
  },
  {
   "cell_type": "code",
   "execution_count": 6,
   "metadata": {},
   "outputs": [],
   "source": [
    "os.chdir(r'C:\\Users\\rushi\\GitHub\\final-project\\Data')"
   ]
  },
  {
   "cell_type": "code",
   "execution_count": 7,
   "metadata": {},
   "outputs": [],
   "source": [
    "bcd = pd.read_csv('Breast-Cancer-Wisconsin-fixed.csv')"
   ]
  },
  {
   "cell_type": "code",
   "execution_count": 8,
   "metadata": {},
   "outputs": [
    {
     "data": {
      "text/html": [
       "<div>\n",
       "<style scoped>\n",
       "    .dataframe tbody tr th:only-of-type {\n",
       "        vertical-align: middle;\n",
       "    }\n",
       "\n",
       "    .dataframe tbody tr th {\n",
       "        vertical-align: top;\n",
       "    }\n",
       "\n",
       "    .dataframe thead th {\n",
       "        text-align: right;\n",
       "    }\n",
       "</style>\n",
       "<table border=\"1\" class=\"dataframe\">\n",
       "  <thead>\n",
       "    <tr style=\"text-align: right;\">\n",
       "      <th></th>\n",
       "      <th>Scn</th>\n",
       "      <th>clump_thick</th>\n",
       "      <th>uni_cell_size</th>\n",
       "      <th>uni_cell_shape</th>\n",
       "      <th>marg_adhesion</th>\n",
       "      <th>single_cell_size</th>\n",
       "      <th>bare_nuc</th>\n",
       "      <th>bland_chromatin</th>\n",
       "      <th>normal_nuc</th>\n",
       "      <th>mitoses</th>\n",
       "      <th>CLASS</th>\n",
       "    </tr>\n",
       "  </thead>\n",
       "  <tbody>\n",
       "    <tr>\n",
       "      <th>0</th>\n",
       "      <td>1000025</td>\n",
       "      <td>5.0</td>\n",
       "      <td>1.0</td>\n",
       "      <td>1.0</td>\n",
       "      <td>1.0</td>\n",
       "      <td>2.0</td>\n",
       "      <td>1.0</td>\n",
       "      <td>3.0</td>\n",
       "      <td>1.0</td>\n",
       "      <td>1.0</td>\n",
       "      <td>2</td>\n",
       "    </tr>\n",
       "    <tr>\n",
       "      <th>1</th>\n",
       "      <td>1002945</td>\n",
       "      <td>5.0</td>\n",
       "      <td>4.0</td>\n",
       "      <td>4.0</td>\n",
       "      <td>5.0</td>\n",
       "      <td>7.0</td>\n",
       "      <td>10.0</td>\n",
       "      <td>3.0</td>\n",
       "      <td>2.0</td>\n",
       "      <td>1.0</td>\n",
       "      <td>2</td>\n",
       "    </tr>\n",
       "    <tr>\n",
       "      <th>2</th>\n",
       "      <td>1015425</td>\n",
       "      <td>3.0</td>\n",
       "      <td>1.0</td>\n",
       "      <td>1.0</td>\n",
       "      <td>1.0</td>\n",
       "      <td>2.0</td>\n",
       "      <td>2.0</td>\n",
       "      <td>3.0</td>\n",
       "      <td>1.0</td>\n",
       "      <td>1.0</td>\n",
       "      <td>2</td>\n",
       "    </tr>\n",
       "    <tr>\n",
       "      <th>3</th>\n",
       "      <td>1016277</td>\n",
       "      <td>6.0</td>\n",
       "      <td>8.0</td>\n",
       "      <td>8.0</td>\n",
       "      <td>1.0</td>\n",
       "      <td>3.0</td>\n",
       "      <td>4.0</td>\n",
       "      <td>3.0</td>\n",
       "      <td>7.0</td>\n",
       "      <td>1.0</td>\n",
       "      <td>2</td>\n",
       "    </tr>\n",
       "    <tr>\n",
       "      <th>4</th>\n",
       "      <td>1017023</td>\n",
       "      <td>4.0</td>\n",
       "      <td>1.0</td>\n",
       "      <td>1.0</td>\n",
       "      <td>3.0</td>\n",
       "      <td>2.0</td>\n",
       "      <td>1.0</td>\n",
       "      <td>3.0</td>\n",
       "      <td>1.0</td>\n",
       "      <td>1.0</td>\n",
       "      <td>2</td>\n",
       "    </tr>\n",
       "    <tr>\n",
       "      <th>5</th>\n",
       "      <td>1017122</td>\n",
       "      <td>8.0</td>\n",
       "      <td>10.0</td>\n",
       "      <td>10.0</td>\n",
       "      <td>8.0</td>\n",
       "      <td>7.0</td>\n",
       "      <td>10.0</td>\n",
       "      <td>9.0</td>\n",
       "      <td>7.0</td>\n",
       "      <td>1.0</td>\n",
       "      <td>4</td>\n",
       "    </tr>\n",
       "    <tr>\n",
       "      <th>6</th>\n",
       "      <td>1018099</td>\n",
       "      <td>1.0</td>\n",
       "      <td>1.0</td>\n",
       "      <td>1.0</td>\n",
       "      <td>1.0</td>\n",
       "      <td>2.0</td>\n",
       "      <td>10.0</td>\n",
       "      <td>3.0</td>\n",
       "      <td>1.0</td>\n",
       "      <td>1.0</td>\n",
       "      <td>2</td>\n",
       "    </tr>\n",
       "    <tr>\n",
       "      <th>...</th>\n",
       "      <td>...</td>\n",
       "      <td>...</td>\n",
       "      <td>...</td>\n",
       "      <td>...</td>\n",
       "      <td>...</td>\n",
       "      <td>...</td>\n",
       "      <td>...</td>\n",
       "      <td>...</td>\n",
       "      <td>...</td>\n",
       "      <td>...</td>\n",
       "      <td>...</td>\n",
       "    </tr>\n",
       "    <tr>\n",
       "      <th>692</th>\n",
       "      <td>714039</td>\n",
       "      <td>3.0</td>\n",
       "      <td>1.0</td>\n",
       "      <td>1.0</td>\n",
       "      <td>1.0</td>\n",
       "      <td>2.0</td>\n",
       "      <td>1.0</td>\n",
       "      <td>1.0</td>\n",
       "      <td>1.0</td>\n",
       "      <td>1.0</td>\n",
       "      <td>2</td>\n",
       "    </tr>\n",
       "    <tr>\n",
       "      <th>693</th>\n",
       "      <td>763235</td>\n",
       "      <td>3.0</td>\n",
       "      <td>1.0</td>\n",
       "      <td>1.0</td>\n",
       "      <td>1.0</td>\n",
       "      <td>2.0</td>\n",
       "      <td>1.0</td>\n",
       "      <td>2.0</td>\n",
       "      <td>1.0</td>\n",
       "      <td>2.0</td>\n",
       "      <td>2</td>\n",
       "    </tr>\n",
       "    <tr>\n",
       "      <th>694</th>\n",
       "      <td>776715</td>\n",
       "      <td>3.0</td>\n",
       "      <td>1.0</td>\n",
       "      <td>1.0</td>\n",
       "      <td>1.0</td>\n",
       "      <td>3.0</td>\n",
       "      <td>2.0</td>\n",
       "      <td>1.0</td>\n",
       "      <td>1.0</td>\n",
       "      <td>1.0</td>\n",
       "      <td>2</td>\n",
       "    </tr>\n",
       "    <tr>\n",
       "      <th>695</th>\n",
       "      <td>841769</td>\n",
       "      <td>2.0</td>\n",
       "      <td>1.0</td>\n",
       "      <td>1.0</td>\n",
       "      <td>1.0</td>\n",
       "      <td>2.0</td>\n",
       "      <td>1.0</td>\n",
       "      <td>1.0</td>\n",
       "      <td>1.0</td>\n",
       "      <td>1.0</td>\n",
       "      <td>2</td>\n",
       "    </tr>\n",
       "    <tr>\n",
       "      <th>696</th>\n",
       "      <td>888820</td>\n",
       "      <td>5.0</td>\n",
       "      <td>10.0</td>\n",
       "      <td>10.0</td>\n",
       "      <td>3.0</td>\n",
       "      <td>7.0</td>\n",
       "      <td>3.0</td>\n",
       "      <td>8.0</td>\n",
       "      <td>10.0</td>\n",
       "      <td>2.0</td>\n",
       "      <td>4</td>\n",
       "    </tr>\n",
       "    <tr>\n",
       "      <th>697</th>\n",
       "      <td>897471</td>\n",
       "      <td>4.0</td>\n",
       "      <td>8.0</td>\n",
       "      <td>6.0</td>\n",
       "      <td>4.0</td>\n",
       "      <td>3.0</td>\n",
       "      <td>4.0</td>\n",
       "      <td>10.0</td>\n",
       "      <td>6.0</td>\n",
       "      <td>1.0</td>\n",
       "      <td>4</td>\n",
       "    </tr>\n",
       "    <tr>\n",
       "      <th>698</th>\n",
       "      <td>897471</td>\n",
       "      <td>4.0</td>\n",
       "      <td>8.0</td>\n",
       "      <td>8.0</td>\n",
       "      <td>5.0</td>\n",
       "      <td>4.0</td>\n",
       "      <td>5.0</td>\n",
       "      <td>10.0</td>\n",
       "      <td>4.0</td>\n",
       "      <td>1.0</td>\n",
       "      <td>4</td>\n",
       "    </tr>\n",
       "  </tbody>\n",
       "</table>\n",
       "<p>699 rows × 11 columns</p>\n",
       "</div>"
      ],
      "text/plain": [
       "         Scn  clump_thick  uni_cell_size  uni_cell_shape  marg_adhesion  \\\n",
       "0    1000025          5.0            1.0             1.0            1.0   \n",
       "1    1002945          5.0            4.0             4.0            5.0   \n",
       "2    1015425          3.0            1.0             1.0            1.0   \n",
       "3    1016277          6.0            8.0             8.0            1.0   \n",
       "4    1017023          4.0            1.0             1.0            3.0   \n",
       "5    1017122          8.0           10.0            10.0            8.0   \n",
       "6    1018099          1.0            1.0             1.0            1.0   \n",
       "..       ...          ...            ...             ...            ...   \n",
       "692   714039          3.0            1.0             1.0            1.0   \n",
       "693   763235          3.0            1.0             1.0            1.0   \n",
       "694   776715          3.0            1.0             1.0            1.0   \n",
       "695   841769          2.0            1.0             1.0            1.0   \n",
       "696   888820          5.0           10.0            10.0            3.0   \n",
       "697   897471          4.0            8.0             6.0            4.0   \n",
       "698   897471          4.0            8.0             8.0            5.0   \n",
       "\n",
       "     single_cell_size  bare_nuc  bland_chromatin  normal_nuc  mitoses  CLASS  \n",
       "0                 2.0       1.0              3.0         1.0      1.0      2  \n",
       "1                 7.0      10.0              3.0         2.0      1.0      2  \n",
       "2                 2.0       2.0              3.0         1.0      1.0      2  \n",
       "3                 3.0       4.0              3.0         7.0      1.0      2  \n",
       "4                 2.0       1.0              3.0         1.0      1.0      2  \n",
       "5                 7.0      10.0              9.0         7.0      1.0      4  \n",
       "6                 2.0      10.0              3.0         1.0      1.0      2  \n",
       "..                ...       ...              ...         ...      ...    ...  \n",
       "692               2.0       1.0              1.0         1.0      1.0      2  \n",
       "693               2.0       1.0              2.0         1.0      2.0      2  \n",
       "694               3.0       2.0              1.0         1.0      1.0      2  \n",
       "695               2.0       1.0              1.0         1.0      1.0      2  \n",
       "696               7.0       3.0              8.0        10.0      2.0      4  \n",
       "697               3.0       4.0             10.0         6.0      1.0      4  \n",
       "698               4.0       5.0             10.0         4.0      1.0      4  \n",
       "\n",
       "[699 rows x 11 columns]"
      ]
     },
     "execution_count": 8,
     "metadata": {},
     "output_type": "execute_result"
    }
   ],
   "source": [
    "bcd.rename(columns={'A2':'clump_thick', 'A3':'uni_cell_size', 'A4':'uni_cell_shape', 'A5':'marg_adhesion', 'A6':'single_cell_size', \n",
    "                          'A7':'bare_nuc', 'A8':'bland_chromatin','A9':'normal_nuc', 'A10':'mitoses'})"
   ]
  },
  {
   "cell_type": "markdown",
   "metadata": {},
   "source": [
    "### Use KMeans algorithm"
   ]
  },
  {
   "cell_type": "code",
   "execution_count": 9,
   "metadata": {},
   "outputs": [],
   "source": [
    "bcd2 = bcd[['A2','A3','A4','A5','A6','A7','A8','A9','A10','CLASS']]"
   ]
  },
  {
   "cell_type": "markdown",
   "metadata": {},
   "source": [
    "### Set iteration to 500, initial centroids to 20, and n_clusters to 2"
   ]
  },
  {
   "cell_type": "code",
   "execution_count": 10,
   "metadata": {},
   "outputs": [],
   "source": [
    "model = KMeans(n_init=20, max_iter=500, n_clusters=2)"
   ]
  },
  {
   "cell_type": "code",
   "execution_count": 11,
   "metadata": {},
   "outputs": [
    {
     "data": {
      "text/plain": [
       "KMeans(algorithm='auto', copy_x=True, init='k-means++', max_iter=500,\n",
       "    n_clusters=2, n_init=20, n_jobs=None, precompute_distances='auto',\n",
       "    random_state=None, tol=0.0001, verbose=0)"
      ]
     },
     "execution_count": 11,
     "metadata": {},
     "output_type": "execute_result"
    }
   ],
   "source": [
    "model.fit(bcd2)"
   ]
  },
  {
   "cell_type": "markdown",
   "metadata": {},
   "source": [
    "###  Save predicted clusters into a variable *labels*"
   ]
  },
  {
   "cell_type": "code",
   "execution_count": 12,
   "metadata": {},
   "outputs": [],
   "source": [
    "labels = model.predict(bcd2)"
   ]
  },
  {
   "cell_type": "markdown",
   "metadata": {},
   "source": [
    "### Create a new column in your dataframe and add Kmeans labels."
   ]
  },
  {
   "cell_type": "code",
   "execution_count": 13,
   "metadata": {},
   "outputs": [],
   "source": [
    "bcd2['kmeans_labels'] = labels"
   ]
  },
  {
   "cell_type": "markdown",
   "metadata": {},
   "source": [
    "### Change labels values so that 0 becomes 2 and 1 becomes 4"
   ]
  },
  {
   "cell_type": "code",
   "execution_count": 14,
   "metadata": {},
   "outputs": [],
   "source": [
    "bcd2['kmeans_labels'] = bcd2['kmeans_labels'].replace(0, 2)\n",
    "bcd2['kmeans_labels'] = bcd2['kmeans_labels'].replace(1, 4)"
   ]
  },
  {
   "cell_type": "markdown",
   "metadata": {},
   "source": [
    "### Print the first 15 records from your dataframe"
   ]
  },
  {
   "cell_type": "code",
   "execution_count": 15,
   "metadata": {},
   "outputs": [
    {
     "name": "stdout",
     "output_type": "stream",
     "text": [
      "     A2    A3    A4    A5   A6    A7   A8   A9  A10  CLASS  kmeans_labels\n",
      "0   5.0   1.0   1.0   1.0  2.0   1.0  3.0  1.0  1.0      2              2\n",
      "1   5.0   4.0   4.0   5.0  7.0  10.0  3.0  2.0  1.0      2              4\n",
      "2   3.0   1.0   1.0   1.0  2.0   2.0  3.0  1.0  1.0      2              2\n",
      "3   6.0   8.0   8.0   1.0  3.0   4.0  3.0  7.0  1.0      2              4\n",
      "4   4.0   1.0   1.0   3.0  2.0   1.0  3.0  1.0  1.0      2              2\n",
      "5   8.0  10.0  10.0   8.0  7.0  10.0  9.0  7.0  1.0      4              4\n",
      "6   1.0   1.0   1.0   1.0  2.0  10.0  3.0  1.0  1.0      2              2\n",
      "7   2.0   1.0   2.0   1.0  2.0   1.0  3.0  1.0  1.0      2              2\n",
      "8   2.0   1.0   1.0   1.0  2.0   1.0  1.0  1.0  5.0      2              2\n",
      "9   4.0   2.0   1.0   1.0  2.0   1.0  2.0  1.0  1.0      2              2\n",
      "10  1.0   1.0   1.0   1.0  1.0   1.0  3.0  1.0  1.0      2              2\n",
      "11  2.0   1.0   1.0   1.0  2.0   1.0  2.0  1.0  1.0      2              2\n",
      "12  5.0   3.0   3.0   3.0  2.0   3.0  4.0  4.0  1.0      4              2\n",
      "13  1.0   1.0   1.0   1.0  2.0   3.0  3.0  1.0  1.0      2              2\n",
      "14  8.0   7.0   5.0  10.0  7.0   9.0  5.0  5.0  4.0      4              4\n"
     ]
    }
   ],
   "source": [
    "print(bcd2.head(n=15))"
   ]
  },
  {
   "cell_type": "markdown",
   "metadata": {},
   "source": [
    "### Count values for benign (2) and malign (4)"
   ]
  },
  {
   "cell_type": "markdown",
   "metadata": {},
   "source": [
    "**Count of 2 & 4 for CLASS**"
   ]
  },
  {
   "cell_type": "code",
   "execution_count": 17,
   "metadata": {},
   "outputs": [
    {
     "name": "stdout",
     "output_type": "stream",
     "text": [
      "2    458\n",
      "4    241\n",
      "Name: CLASS, dtype: int64\n"
     ]
    }
   ],
   "source": [
    "print(bcd2['CLASS'].value_counts())"
   ]
  },
  {
   "cell_type": "markdown",
   "metadata": {},
   "source": [
    "**Count of 2 & 4 for Kmeans_lables**"
   ]
  },
  {
   "cell_type": "code",
   "execution_count": 18,
   "metadata": {},
   "outputs": [
    {
     "name": "stdout",
     "output_type": "stream",
     "text": [
      "2    462\n",
      "4    237\n",
      "Name: kmeans_labels, dtype: int64\n"
     ]
    }
   ],
   "source": [
    "print(bcd2['kmeans_labels'].value_counts())"
   ]
  },
  {
   "cell_type": "code",
   "execution_count": 20,
   "metadata": {},
   "outputs": [
    {
     "name": "stdout",
     "output_type": "stream",
     "text": [
      "kmeans_labels  CLASS\n",
      "2              2        447\n",
      "               4         15\n",
      "4              4        226\n",
      "               2         11\n",
      "Name: CLASS, dtype: int64\n"
     ]
    }
   ],
   "source": [
    "class_lables = bcd2.groupby('kmeans_labels')['CLASS'].value_counts()\n",
    "print(class_lables)"
   ]
  },
  {
   "cell_type": "markdown",
   "metadata": {},
   "source": [
    "### Error Rate Function "
   ]
  },
  {
   "cell_type": "code",
   "execution_count": 29,
   "metadata": {},
   "outputs": [],
   "source": [
    "bcd2['CLASS'] = bcd2['CLASS'].astype(int)"
   ]
  },
  {
   "cell_type": "code",
   "execution_count": 34,
   "metadata": {},
   "outputs": [],
   "source": [
    "BenignError = sum((bcd2.kmeans_labels == 4) & (bcd2.CLASS==2))\n",
    "MalignError = sum((bcd2.kmeans_labels == 2) & (bcd2.CLASS==4))\n",
    "total = len(bcd2)"
   ]
  },
  {
   "cell_type": "code",
   "execution_count": 35,
   "metadata": {},
   "outputs": [
    {
     "name": "stdout",
     "output_type": "stream",
     "text": [
      "error rate for benign: 0.015736766809728183\n",
      "error rate for malign: 0.02145922746781116\n",
      "total error rate: 0.03719599427753934\n",
      "      A2    A3    A4   A5   A6    A7    A8    A9  A10  CLASS  kmeans_labels\n",
      "0    5.0   1.0   1.0  1.0  2.0   1.0   3.0   1.0  1.0      2              2\n",
      "1    5.0   4.0   4.0  5.0  7.0  10.0   3.0   2.0  1.0      2              4\n",
      "2    3.0   1.0   1.0  1.0  2.0   2.0   3.0   1.0  1.0      2              2\n",
      "3    6.0   8.0   8.0  1.0  3.0   4.0   3.0   7.0  1.0      2              4\n",
      "4    4.0   1.0   1.0  3.0  2.0   1.0   3.0   1.0  1.0      2              2\n",
      "5    8.0  10.0  10.0  8.0  7.0  10.0   9.0   7.0  1.0      4              4\n",
      "6    1.0   1.0   1.0  1.0  2.0  10.0   3.0   1.0  1.0      2              2\n",
      "..   ...   ...   ...  ...  ...   ...   ...   ...  ...    ...            ...\n",
      "692  3.0   1.0   1.0  1.0  2.0   1.0   1.0   1.0  1.0      2              2\n",
      "693  3.0   1.0   1.0  1.0  2.0   1.0   2.0   1.0  2.0      2              2\n",
      "694  3.0   1.0   1.0  1.0  3.0   2.0   1.0   1.0  1.0      2              2\n",
      "695  2.0   1.0   1.0  1.0  2.0   1.0   1.0   1.0  1.0      2              2\n",
      "696  5.0  10.0  10.0  3.0  7.0   3.0   8.0  10.0  2.0      4              4\n",
      "697  4.0   8.0   6.0  4.0  3.0   4.0  10.0   6.0  1.0      4              4\n",
      "698  4.0   8.0   8.0  5.0  4.0   5.0  10.0   4.0  1.0      4              4\n",
      "\n",
      "[699 rows x 11 columns]\n"
     ]
    }
   ],
   "source": [
    "print(\"error rate for benign: \" + str(BenignError/total))\n",
    "print(\"error rate for malign: \" + str(MalignError/total))\n",
    "print(\"total error rate: \" + str((BenignError + MalignError) / total))\n",
    "print(bcd2)"
   ]
  },
  {
   "cell_type": "markdown",
   "metadata": {},
   "source": [
    "### Report"
   ]
  },
  {
   "cell_type": "markdown",
   "metadata": {},
   "source": [
    "\n",
    "The total error rate is *seems* low. The model also seems better at predicting benign values over malign values, based on the lower error rate for benign. As stated earlier in the project, without having significant domain knowledge on the matter it is not smart to put quantitative labels on the error rate. Additionally, the numbers are not consistent across each code execution and is are a moving target. Finally, the dataset with which we trained the model with may be far too small of a sample for a topic that most likely needs significant accuracy. If this was for a marketing dataset, error rates in this vicinity are likely acceptable. \n",
    "\n",
    "As an exercise to learn python, the error rates are much lower than anticipated. The process of exploring, cleaning, creating a pipeline, creating a model, and running raw values through is one that is standard for data mining. Going through it via python over a tool like SPSS modeler or Alteryx is a necessary step. "
   ]
  },
  {
   "cell_type": "code",
   "execution_count": null,
   "metadata": {},
   "outputs": [],
   "source": []
  }
 ],
 "metadata": {
  "kernelspec": {
   "display_name": "Python 3",
   "language": "python",
   "name": "python3"
  },
  "language_info": {
   "codemirror_mode": {
    "name": "ipython",
    "version": 3
   },
   "file_extension": ".py",
   "mimetype": "text/x-python",
   "name": "python",
   "nbconvert_exporter": "python",
   "pygments_lexer": "ipython3",
   "version": "3.7.0"
  }
 },
 "nbformat": 4,
 "nbformat_minor": 2
}
