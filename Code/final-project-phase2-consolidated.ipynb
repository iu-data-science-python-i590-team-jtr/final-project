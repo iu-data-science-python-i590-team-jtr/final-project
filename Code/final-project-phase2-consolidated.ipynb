{
 "cells": [
  {
   "cell_type": "code",
   "execution_count": 1,
   "metadata": {},
   "outputs": [],
   "source": [
    "import pandas as pd\n",
    "import matplotlib.pyplot as plt\n",
    "import numpy as np"
   ]
  },
  {
   "cell_type": "markdown",
   "metadata": {},
   "source": [
    "Data prep"
   ]
  },
  {
   "cell_type": "code",
   "execution_count": 10,
   "metadata": {},
   "outputs": [
    {
     "name": "stdout",
     "output_type": "stream",
     "text": [
      "Count of isnull (NaN) in column A7: 16\n"
     ]
    }
   ],
   "source": [
    "#import data\n",
    "bcd = pd.read_csv(\"C:/Users/jjden/Dropbox/Education/IU/python course/final project/Breast-Cancer-Wisconsin.csv\",skip_blank_lines=True,header=0)\n",
    "\n",
    "#replace missing data('?')\n",
    "bcd.A7.replace('?',np.NaN)\n",
    "bcd.A7 = pd.to_numeric(bcd.A7,errors='coerce')\n",
    "print(\"Count of isnull (NaN) in column A7: \" + str(bcd.A7.isnull().sum()))\n",
    "\n",
    "#continue data cleanup\n",
    "bcd.fillna(bcd.loc[:,\"A7\"].mean(skipna=True), inplace=True)"
   ]
  },
  {
   "cell_type": "markdown",
   "metadata": {},
   "source": [
    "1. Use KMeans algorithm (do not use column CLASS) 10pts"
   ]
  },
  {
   "cell_type": "code",
   "execution_count": 11,
   "metadata": {},
   "outputs": [
    {
     "name": "stdout",
     "output_type": "stream",
     "text": [
      "Here are centroids:\n",
      "[[2.94493392 1.24449339 1.36563877 1.29295154 2.03964758 1.3514006\n",
      "  2.06167401 1.20044053 1.07709251]\n",
      " [6.7625     8.3875     8.425      7.75       6.775      9.2125\n",
      "  7.375      7.7375     3.7875    ]\n",
      " [7.46478873 7.02816901 6.67605634 4.1971831  5.53521127 3.45322005\n",
      "  5.38028169 6.81690141 2.30985915]\n",
      " [7.23404255 4.85106383 5.04255319 4.86170213 4.11702128 9.38297872\n",
      "  5.26595745 3.78723404 1.64893617]]\n"
     ]
    }
   ],
   "source": [
    "from sklearn.cluster import KMeans\n",
    "model = KMeans(n_clusters=4)\n",
    "dfa2a9 = bcd[['A2','A3','A4','A5','A6','A7','A8','A9','A10']]\n",
    "#print(type(dfa2a9))\n",
    "#print(dfa2a9)\n",
    "model.fit(dfa2a9.values)\n",
    "print(\"Here are centroids:\")\n",
    "print(model.cluster_centers_)"
   ]
  },
  {
   "cell_type": "markdown",
   "metadata": {},
   "source": [
    "2. Find the optimal number of clusters 10 pts"
   ]
  },
  {
   "cell_type": "code",
   "execution_count": 12,
   "metadata": {},
   "outputs": [
    {
     "data": {
      "text/plain": [
       "Text(0, 0.5, 'inertia')"
      ]
     },
     "execution_count": 12,
     "metadata": {},
     "output_type": "execute_result"
    },
    {
     "data": {
      "image/png": "[encoded data removed]",
      "text/plain": [
       "<Figure size 432x288 with 1 Axes>"
      ]
     },
     "metadata": {
      "needs_background": "light"
     },
     "output_type": "display_data"
    }
   ],
   "source": [
    "inertiaRange = range(1,16)\n",
    "inertiaList = []\n",
    "for x in inertiaRange:\n",
    "    model = KMeans(n_clusters=x)\n",
    "    model.fit(dfa2a9.values)\n",
    "    inertiaList.append(model.inertia_)\n",
    "#plot range and inertia\n",
    "ax = plt.plot(inertiaRange,inertiaList)\n",
    "plt.xlabel('number of clusters')\n",
    "plt.ylabel('inertia')"
   ]
  },
  {
   "cell_type": "markdown",
   "metadata": {},
   "source": [
    "3 seems like optimal number of clusters"
   ]
  },
  {
   "cell_type": "markdown",
   "metadata": {},
   "source": [
    "3. Revise data variation 10pts"
   ]
  },
  {
   "cell_type": "code",
   "execution_count": 13,
   "metadata": {},
   "outputs": [
    {
     "name": "stdout",
     "output_type": "stream",
     "text": [
      "A10    1.715078\n",
      "A6     2.214300\n",
      "A8     2.438364\n",
      "A2     2.815741\n",
      "A5     2.855379\n",
      "A4     2.971913\n",
      "A3     3.051459\n",
      "A9     3.053634\n",
      "A7     3.601852\n",
      "dtype: float64\n"
     ]
    },
    {
     "data": {
      "text/plain": [
       "Text(0, 0.5, 'standard deviation')"
      ]
     },
     "execution_count": 13,
     "metadata": {},
     "output_type": "execute_result"
    },
    {
     "data": {
      "image/png": "[encoded data removed]",
      "text/plain": [
       "<Figure size 432x288 with 1 Axes>"
      ]
     },
     "metadata": {
      "needs_background": "light"
     },
     "output_type": "display_data"
    }
   ],
   "source": [
    "#dataframe.std() will run only on numeric columns, i.e. not the labels\n",
    "stdev = dfa2a9.std()\n",
    "stdev.sort_values(ascending=True,inplace=True)\n",
    "print(stdev)\n",
    "ax2 = plt.plot(stdev.index,stdev.values)\n",
    "plt.xlabel('data column')\n",
    "plt.ylabel('standard deviation')"
   ]
  },
  {
   "cell_type": "markdown",
   "metadata": {},
   "source": [
    "4. Implement normalization 8pts"
   ]
  },
  {
   "cell_type": "code",
   "execution_count": 14,
   "metadata": {},
   "outputs": [
    {
     "name": "stdout",
     "output_type": "stream",
     "text": [
      "Here are centroids:\n",
      "[[-0.51945334 -0.61728918 -0.61702732 -0.52103625 -0.53370405 -0.60430508\n",
      "  -0.56576652 -0.54283279 -0.29912703]\n",
      " [ 0.94324425  1.06056115  1.0579358   0.87929444  0.86029786  1.12907601\n",
      "   1.00835139  0.92952452  0.03297812]\n",
      " [ 1.16860808  1.75960552  1.77223164  1.58294095  1.86961155  1.16430087\n",
      "   1.3895322   1.56650375  3.80910288]]\n"
     ]
    }
   ],
   "source": [
    "from sklearn.pipeline import make_pipeline\n",
    "from sklearn.preprocessing import StandardScaler\n",
    "scaler = StandardScaler()\n",
    "kmeans = KMeans(n_clusters=3)\n",
    "pipeline = make_pipeline(scaler,kmeans)\n",
    "pipeline.fit(dfa2a9.values)\n",
    "print(\"Here are centroids:\")\n",
    "print(kmeans.cluster_centers_)"
   ]
  }
 ],
 "metadata": {
  "kernelspec": {
   "display_name": "Python 3",
   "language": "python",
   "name": "python3"
  },
  "language_info": {
   "codemirror_mode": {
    "name": "ipython",
    "version": 3
   },
   "file_extension": ".py",
   "mimetype": "text/x-python",
   "name": "python",
   "nbconvert_exporter": "python",
   "pygments_lexer": "ipython3",
   "version": "3.7.0"
  }
 },
 "nbformat": 4,
 "nbformat_minor": 2
}
