{
 "cells": [
  {
   "cell_type": "code",
   "execution_count": 144,
   "metadata": {},
   "outputs": [],
   "source": [
    "import pandas as pd\n",
    "import matplotlib.pyplot as plt\n",
    "import numpy as np"
   ]
  },
  {
   "cell_type": "code",
   "execution_count": 145,
   "metadata": {},
   "outputs": [
    {
     "name": "stdout",
     "output_type": "stream",
     "text": [
      "699 rows of data in the data sample\n"
     ]
    }
   ],
   "source": [
    "#Display cell output for all expressions\n",
    "#from IPython.core.interactiveshell import InteractiveShell\n",
    "#InteractiveShell.ast_node_interactivity = \"all\"\n",
    "#Set max rows displayed in a cell\n",
    "pd.set_option('display.max_rows', 5)\n",
    "#import data\n",
    "bcd = pd.read_csv(\"C:/Users/jjden/Dropbox/Education/IU/python course/final project/Breast-Cancer-Wisconsin.csv\",skip_blank_lines=True,header=0)\n",
    "#check data\n",
    "bcd.dtypes\n",
    "bcd.head()\n",
    "print (str(bcd.Scn.count()) + \" rows of data in the data sample\")"
   ]
  },
  {
   "cell_type": "code",
   "execution_count": 146,
   "metadata": {},
   "outputs": [
    {
     "data": {
      "text/html": [
       "<div>\n",
       "<style scoped>\n",
       "    .dataframe tbody tr th:only-of-type {\n",
       "        vertical-align: middle;\n",
       "    }\n",
       "\n",
       "    .dataframe tbody tr th {\n",
       "        vertical-align: top;\n",
       "    }\n",
       "\n",
       "    .dataframe thead th {\n",
       "        text-align: right;\n",
       "    }\n",
       "</style>\n",
       "<table border=\"1\" class=\"dataframe\">\n",
       "  <thead>\n",
       "    <tr style=\"text-align: right;\">\n",
       "      <th></th>\n",
       "      <th>Scn</th>\n",
       "      <th>A2</th>\n",
       "      <th>A3</th>\n",
       "      <th>A4</th>\n",
       "      <th>A5</th>\n",
       "      <th>A6</th>\n",
       "      <th>A7</th>\n",
       "      <th>A8</th>\n",
       "      <th>A9</th>\n",
       "      <th>A10</th>\n",
       "      <th>CLASS</th>\n",
       "    </tr>\n",
       "  </thead>\n",
       "  <tbody>\n",
       "    <tr>\n",
       "      <th>23</th>\n",
       "      <td>1057013</td>\n",
       "      <td>8</td>\n",
       "      <td>4</td>\n",
       "      <td>5</td>\n",
       "      <td>1</td>\n",
       "      <td>2</td>\n",
       "      <td>?</td>\n",
       "      <td>7</td>\n",
       "      <td>3</td>\n",
       "      <td>1</td>\n",
       "      <td>4</td>\n",
       "    </tr>\n",
       "    <tr>\n",
       "      <th>40</th>\n",
       "      <td>1096800</td>\n",
       "      <td>6</td>\n",
       "      <td>6</td>\n",
       "      <td>6</td>\n",
       "      <td>9</td>\n",
       "      <td>6</td>\n",
       "      <td>?</td>\n",
       "      <td>7</td>\n",
       "      <td>8</td>\n",
       "      <td>1</td>\n",
       "      <td>2</td>\n",
       "    </tr>\n",
       "    <tr>\n",
       "      <th>...</th>\n",
       "      <td>...</td>\n",
       "      <td>...</td>\n",
       "      <td>...</td>\n",
       "      <td>...</td>\n",
       "      <td>...</td>\n",
       "      <td>...</td>\n",
       "      <td>...</td>\n",
       "      <td>...</td>\n",
       "      <td>...</td>\n",
       "      <td>...</td>\n",
       "      <td>...</td>\n",
       "    </tr>\n",
       "    <tr>\n",
       "      <th>411</th>\n",
       "      <td>1238464</td>\n",
       "      <td>1</td>\n",
       "      <td>1</td>\n",
       "      <td>1</td>\n",
       "      <td>1</td>\n",
       "      <td>1</td>\n",
       "      <td>?</td>\n",
       "      <td>2</td>\n",
       "      <td>1</td>\n",
       "      <td>1</td>\n",
       "      <td>2</td>\n",
       "    </tr>\n",
       "    <tr>\n",
       "      <th>617</th>\n",
       "      <td>1057067</td>\n",
       "      <td>1</td>\n",
       "      <td>1</td>\n",
       "      <td>1</td>\n",
       "      <td>1</td>\n",
       "      <td>1</td>\n",
       "      <td>?</td>\n",
       "      <td>1</td>\n",
       "      <td>1</td>\n",
       "      <td>1</td>\n",
       "      <td>2</td>\n",
       "    </tr>\n",
       "  </tbody>\n",
       "</table>\n",
       "<p>16 rows × 11 columns</p>\n",
       "</div>"
      ],
      "text/plain": [
       "         Scn  A2  A3  A4  A5  A6 A7  A8  A9  A10  CLASS\n",
       "23   1057013   8   4   5   1   2  ?   7   3    1      4\n",
       "40   1096800   6   6   6   9   6  ?   7   8    1      2\n",
       "..       ...  ..  ..  ..  ..  .. ..  ..  ..  ...    ...\n",
       "411  1238464   1   1   1   1   1  ?   2   1    1      2\n",
       "617  1057067   1   1   1   1   1  ?   1   1    1      2\n",
       "\n",
       "[16 rows x 11 columns]"
      ]
     },
     "execution_count": 146,
     "metadata": {},
     "output_type": "execute_result"
    }
   ],
   "source": [
    "#Inspect missing data\n",
    "a7 = bcd.A7\n",
    "len(bcd.loc[a7 == '?'])\n",
    "bcd.loc[a7 == '?']"
   ]
  },
  {
   "cell_type": "markdown",
   "metadata": {},
   "source": [
    "#markdown\n",
    "Replace ? by NaN in column A7. Use ____.replace('?', np.NaN) - but properly specify A7 column.\n",
    "After replacing - your column needs to be converted back to numeric. Apply pandas function pd.to_numeric() for column A7\n",
    "Report how many NaN. Use isnull() function applied to the dataframe. Then you can use arithmetic sum(). [Remember to use print() statement to report]\n",
    "Replace NaN values with the mean of column A7. Use fillna() - find how to calculate mean of the column, add a parameter skipna=TRUE. Apply this function to the entire df - you do not need to specify here column A7"
   ]
  },
  {
   "cell_type": "code",
   "execution_count": 147,
   "metadata": {},
   "outputs": [
    {
     "name": "stdout",
     "output_type": "stream",
     "text": [
      "Count of isnull (NaN) in column A7: 16\n"
     ]
    }
   ],
   "source": [
    "#replace missing data('?')\n",
    "bcd.A7.replace('?',np.NaN)\n",
    "bcd.A7 = pd.to_numeric(bcd.A7,errors='coerce')\n",
    "print(\"Count of isnull (NaN) in column A7: \" + str(bcd.A7.isnull().sum()))\n",
    "\n",
    "#continue data cleanup\n",
    "bcd.fillna(bcd.loc[:,\"A7\"].mean(skipna=True), inplace=True)"
   ]
  },
  {
   "cell_type": "markdown",
   "metadata": {},
   "source": [
    "#markdown\n",
    "Provide the summary statistics - you can use describe() function\n",
    "Find number of columns and number of rows - hint use ___.shape[] - use a proper index for column and row (consult pandas). Report how many observations (row) and columns\n",
    "Report how many unique id values (column Scn) - hint the length of unique ids"
   ]
  },
  {
   "cell_type": "code",
   "execution_count": 148,
   "metadata": {},
   "outputs": [
    {
     "name": "stdout",
     "output_type": "stream",
     "text": [
      "                Scn         A2          A3          A4          A5  \\\n",
      "count  6.990000e+02  699.00000  699.000000  699.000000  699.000000   \n",
      "mean   1.071704e+06    4.41774    3.134478    3.207439    2.806867   \n",
      "...             ...        ...         ...         ...         ...   \n",
      "75%    1.238298e+06    6.00000    5.000000    5.000000    4.000000   \n",
      "max    1.345435e+07   10.00000   10.000000   10.000000   10.000000   \n",
      "\n",
      "               A6          A7          A8          A9         A10       CLASS  \n",
      "count  699.000000  699.000000  699.000000  699.000000  699.000000  699.000000  \n",
      "mean     3.216023    3.544656    3.437768    2.866953    1.589413    2.689557  \n",
      "...           ...         ...         ...         ...         ...         ...  \n",
      "75%      4.000000    5.000000    5.000000    4.000000    1.000000    4.000000  \n",
      "max     10.000000   10.000000   10.000000   10.000000   10.000000    4.000000  \n",
      "\n",
      "[8 rows x 11 columns]\n",
      "Here is the shape of bcd: There are 699 observations (rows) and 11 columns\n",
      "There are 645 unique id values in column Scn.\n"
     ]
    }
   ],
   "source": [
    "#examine data further\n",
    "print(bcd.describe())\n",
    "shape = bcd.shape\n",
    "print (\"Here is the shape of bcd: There are \" + str(shape[0]) + \" observations (rows) and \" + str(shape[1]) + \" columns\")\n",
    "bcdunique = bcd.Scn.unique()\n",
    "print (\"There are \" + str(len(bcdunique)) + \" unique id values in column Scn.\")"
   ]
  },
  {
   "cell_type": "markdown",
   "metadata": {},
   "source": [
    "Draw histograms for columns A2-A10. Note: you need to subset your dataframe - slice only columns A2-A10. Use histogram function, add a color of your choice. Note you need to run hist() function on your dataframe with selected columns only. It will output all 9 columns as subplots. Here do not worry about individual titles, y and x axis. You could adjust bins and alpha (opacity) on your histograms\n",
    "Hint: Use this layout after calling hist(): plt.tight_layout(rect=(0, 0, 1.2, 1.2))  - to make it fit better. You can also turn grid off in histograms by adding grid=False to hist() parameters. Feel free to explore hist() parameters to enhance the look of histograms."
   ]
  },
  {
   "cell_type": "code",
   "execution_count": 149,
   "metadata": {},
   "outputs": [
    {
     "data": {
      "image/png": "[encoded data removed]",
      "text/plain": [
       "<Figure size 432x288 with 9 Axes>"
      ]
     },
     "metadata": {
      "needs_background": "light"
     },
     "output_type": "display_data"
    }
   ],
   "source": [
    "#draw histograms\n",
    "num_bins = 10\n",
    "hist = bcd.iloc[:,1:10].hist(facecolor='blue',alpha=0.5,grid=False,bins=num_bins)\n",
    "plt.tight_layout(rect=(0, 0, 1.2, 1.2))"
   ]
  },
  {
   "cell_type": "markdown",
   "metadata": {},
   "source": [
    "Draw a bar plot for CLASS - you can use groupby to see counts of  benign and malignant values or you can count values directly using pd.value_counts() function and apply it to plot.bar() function."
   ]
  },
  {
   "cell_type": "code",
   "execution_count": 150,
   "metadata": {},
   "outputs": [
    {
     "data": {
      "text/plain": [
       "Text(0, 0.5, 'count')"
      ]
     },
     "execution_count": 150,
     "metadata": {},
     "output_type": "execute_result"
    },
    {
     "data": {
      "image/png": "[encoded data removed]",
      "text/plain": [
       "<Figure size 288x288 with 1 Axes>"
      ]
     },
     "metadata": {
      "needs_background": "light"
     },
     "output_type": "display_data"
    }
   ],
   "source": [
    "bar = bcd.groupby(['CLASS'])['Scn'].count().plot.bar(figsize=(4,4),color=('blue','orange'),title='Breast Cancer Data Diagnosis')\n",
    "plt.ylabel('count')\n"
   ]
  },
  {
   "cell_type": "markdown",
   "metadata": {},
   "source": [
    "Draw a scatterplot of any two columns."
   ]
  },
  {
   "cell_type": "code",
   "execution_count": 151,
   "metadata": {},
   "outputs": [
    {
     "data": {
      "text/plain": [
       "<matplotlib.collections.PathCollection at 0x231fb1b5eb8>"
      ]
     },
     "execution_count": 151,
     "metadata": {},
     "output_type": "execute_result"
    },
    {
     "data": {
      "image/png": "[encoded data removed]",
      "text/plain": [
       "<Figure size 432x288 with 1 Axes>"
      ]
     },
     "metadata": {
      "needs_background": "light"
     },
     "output_type": "display_data"
    }
   ],
   "source": [
    "plt.scatter(bcd.A2,bcd.A3,marker='o')"
   ]
  },
  {
   "cell_type": "markdown",
   "metadata": {},
   "source": [
    "Summarize by reporting which values might need standardization in the future (too much variation) and any other observations that you may discover as a Data Scientist."
   ]
  },
  {
   "cell_type": "markdown",
   "metadata": {},
   "source": [
    "Columns A7, A3, A9 all have standard deviation greater than 3. A standard normal distribution has sd of 1. Probably these columns at least could use standardization."
   ]
  },
  {
   "cell_type": "markdown",
   "metadata": {},
   "source": [
    "Phase 2 beginning"
   ]
  },
  {
   "cell_type": "markdown",
   "metadata": {},
   "source": [
    "Use KMeans algorithm (do not use column CLASS) 10pts (use only columns A2-A10)"
   ]
  },
  {
   "cell_type": "code",
   "execution_count": 152,
   "metadata": {
    "scrolled": true
   },
   "outputs": [
    {
     "name": "stdout",
     "output_type": "stream",
     "text": [
      "Here are centroids:\n",
      "[[2.94493392 1.24449339 1.36563877 1.29295154 2.03964758 1.3514006\n",
      "  2.06167401 1.20044053 1.07709251]\n",
      " [7.23404255 4.85106383 5.04255319 4.86170213 4.11702128 9.38297872\n",
      "  5.26595745 3.78723404 1.64893617]\n",
      " [7.46478873 7.02816901 6.67605634 4.1971831  5.53521127 3.45322005\n",
      "  5.38028169 6.81690141 2.30985915]\n",
      " [6.7625     8.3875     8.425      7.75       6.775      9.2125\n",
      "  7.375      7.7375     3.7875    ]]\n"
     ]
    }
   ],
   "source": [
    "from sklearn.cluster import KMeans\n",
    "model = KMeans(n_clusters=4)\n",
    "dfa2a9 = bcd[['A2','A3','A4','A5','A6','A7','A8','A9','A10']]\n",
    "#print(type(dfa2a9))\n",
    "#print(dfa2a9)\n",
    "model.fit(dfa2a9.values)\n",
    "print(\"Here are centroids:\")\n",
    "print(model.cluster_centers_)"
   ]
  },
  {
   "cell_type": "markdown",
   "metadata": {},
   "source": [
    "Find the optimal number of clusters 10 pts\n",
    "calculate inertia:\n",
    "create a range from 1 to 15 or more,\n",
    "create an empty list for inertias values\n",
    "use for loop to calculate KMeans for each values"
   ]
  },
  {
   "cell_type": "code",
   "execution_count": 153,
   "metadata": {},
   "outputs": [],
   "source": [
    "inertiaRange = range(1,16)\n",
    "inertiaList = []\n",
    "for x in inertiaRange:\n",
    "    model = KMeans(n_clusters=x)\n",
    "    model.fit(dfa2a9.values)\n",
    "    inertiaList.append(model.inertia_)"
   ]
  },
  {
   "cell_type": "markdown",
   "metadata": {},
   "source": [
    "plot range and inertia:\n",
    "Add title, ylabel, xlabel"
   ]
  },
  {
   "cell_type": "code",
   "execution_count": 154,
   "metadata": {},
   "outputs": [
    {
     "data": {
      "text/plain": [
       "Text(0, 0.5, 'inertia')"
      ]
     },
     "execution_count": 154,
     "metadata": {},
     "output_type": "execute_result"
    },
    {
     "data": {
      "image/png": "[encoded data removed]",
      "text/plain": [
       "<Figure size 432x288 with 1 Axes>"
      ]
     },
     "metadata": {
      "needs_background": "light"
     },
     "output_type": "display_data"
    }
   ],
   "source": [
    "ax = plt.plot(inertiaRange,inertiaList)\n",
    "plt.xlabel('number of clusters')\n",
    "plt.ylabel('inertia')"
   ]
  },
  {
   "cell_type": "markdown",
   "metadata": {},
   "source": [
    "specify the optimal number of clustes based on the inertia plot:\n",
    "\n",
    "3 seems like the optimal number of clusters!"
   ]
  },
  {
   "cell_type": "markdown",
   "metadata": {},
   "source": [
    "Revise data variation 10pts\n",
    "apply standard deviation function for columns A2-A10\n",
    "plot standard deviation values - select a graphic that could display all nine values [do not use histogram], add title, legend, ylabel, xlabel. Can you capture how wide or narrow is the variation in each column?\n",
    "describe which features have a lot of data variation"
   ]
  },
  {
   "cell_type": "code",
   "execution_count": 155,
   "metadata": {},
   "outputs": [
    {
     "name": "stdout",
     "output_type": "stream",
     "text": [
      "A10    1.715078\n",
      "A6     2.214300\n",
      "         ...   \n",
      "A9     3.053634\n",
      "A7     3.601852\n",
      "Length: 9, dtype: float64\n"
     ]
    },
    {
     "data": {
      "text/plain": [
       "Text(0, 0.5, 'standard deviation')"
      ]
     },
     "execution_count": 155,
     "metadata": {},
     "output_type": "execute_result"
    },
    {
     "data": {
      "image/png": "[encoded data removed]",
      "text/plain": [
       "<Figure size 432x288 with 1 Axes>"
      ]
     },
     "metadata": {
      "needs_background": "light"
     },
     "output_type": "display_data"
    }
   ],
   "source": [
    "#dataframe.std() will run only on numeric columns, i.e. not the labels\n",
    "stdev = dfa2a9.std()\n",
    "stdev.sort_values(ascending=True,inplace=True)\n",
    "print(stdev)\n",
    "ax2 = plt.plot(stdev.index,stdev.values)\n",
    "plt.xlabel('data column')\n",
    "plt.ylabel('standard deviation')"
   ]
  },
  {
   "cell_type": "markdown",
   "metadata": {},
   "source": [
    "Implement normalization 8pts\n",
    "import make_pipeline - use sklearn.pipeline\n",
    "import StandardScaler\n",
    "review datacamp if needed on how to create a pipeline\n",
    "use the n_cluster based on the optimal number you have identified from Inertia\n",
    "find centroids and print them"
   ]
  },
  {
   "cell_type": "code",
   "execution_count": 156,
   "metadata": {},
   "outputs": [
    {
     "name": "stdout",
     "output_type": "stream",
     "text": [
      "Here are centroids:\n",
      "[[-0.51945334 -0.61728918 -0.61702732 -0.52103625 -0.53370405 -0.60430508\n",
      "  -0.56576652 -0.54283279 -0.29912703]\n",
      " [ 0.94324425  1.06056115  1.0579358   0.87929444  0.86029786  1.12907601\n",
      "   1.00835139  0.92952452  0.03297812]\n",
      " [ 1.16860808  1.75960552  1.77223164  1.58294095  1.86961155  1.16430087\n",
      "   1.3895322   1.56650375  3.80910288]]\n"
     ]
    }
   ],
   "source": [
    "from sklearn.pipeline import make_pipeline\n",
    "from sklearn.preprocessing import StandardScaler\n",
    "scaler = StandardScaler()\n",
    "kmeans = KMeans(n_clusters=3)\n",
    "pipeline = make_pipeline(scaler,kmeans)\n",
    "pipeline.fit(dfa2a9.values)\n",
    "print(\"Here are centroids:\")\n",
    "print(kmeans.cluster_centers_)"
   ]
  },
  {
   "cell_type": "markdown",
   "metadata": {},
   "source": [
    "Cluster - 5pts\n",
    "\n",
    "Steps:\n",
    "\n",
    "1. Change iteration to 500 and initial centroids to 20\n",
    "\n",
    "The default values in KMeans are n_init=10 and max_iter=300. This means the initial centroids will be chosen 10 times, and each run will use up to 300 iterations. The best out of those 10 runs will be the final result. https://scikit-learn.org/stable/modules/generated/sklearn.cluster.KMeans.html (Links to an external site.)Links to an external site.\n",
    "\n",
    "2. Run Kmeans with n_clusters = 2\n",
    "\n",
    "3. Save predicted clusters into a variable labels"
   ]
  },
  {
   "cell_type": "code",
   "execution_count": 157,
   "metadata": {},
   "outputs": [
    {
     "name": "stdout",
     "output_type": "stream",
     "text": [
      "Here are centroids:\n",
      "[[-0.49622257 -0.60690049 -0.60209195 -0.51491746 -0.50971347 -0.5806004\n",
      "  -0.54770245 -0.53077769 -0.30375822]\n",
      " [ 0.98608331  1.20602021  1.19646478  1.02323341  1.01289215  1.1537572\n",
      "   1.08838307  1.05475054  0.60362211]]\n",
      "here are labels\n",
      "[0 1 0 1 0 1 0 0 0 0 0 0 0 0 1 1 0 0 1 0 1 1 0 1 0 0 0 0 0 0 0 0 1 0 0 0 1\n",
      " 0 1 1 1 1 1 1 1 0 1 0 0 1 1 0 1 1 1 1 1 0 0 0 1 0 1 0 0 1 0 1 1 0 0 1 0 1\n",
      " 1 0 0 0 0 0 0 0 0 0 1 1 1 1 0 0 0 0 0 0 0 0 0 0 1 1 1 0 0 0 1 1 1 1 0 1 0\n",
      " 1 1 1 0 0 0 1 0 0 0 0 1 1 1 0 1 0 1 0 0 0 1 0 0 0 0 0 0 0 0 0 1 0 0 0 0 0\n",
      " 0 1 0 1 1 0 0 1 0 0 0 1 1 0 0 0 0 0 1 1 0 0 0 0 0 1 1 1 0 1 0 0 0 0 0 1 1\n",
      " 0 1 1 1 0 1 1 0 0 0 0 1 0 0 0 1 1 0 0 0 1 1 0 0 0 1 1 0 1 1 1 0 0 1 0 0 1\n",
      " 0 1 1 0 1 1 0 1 1 1 0 1 0 0 1 1 1 1 0 0 0 0 0 0 1 0 0 0 0 1 1 1 1 1 0 0 0\n",
      " 1 1 1 1 1 1 0 1 1 1 0 1 0 1 0 0 0 0 0 0 1 0 0 1 1 1 1 1 0 1 1 0 0 1 1 0 1\n",
      " 1 0 0 1 1 0 1 0 1 1 0 0 1 0 0 0 1 0 0 1 1 1 0 1 1 0 0 1 0 0 0 0 1 1 1 0 0\n",
      " 1 1 0 1 0 0 1 1 0 0 0 1 0 0 0 0 1 0 0 1 1 0 0 0 1 1 1 1 1 0 0 0 0 1 1 0 0\n",
      " 0 0 0 0 0 0 0 0 0 0 0 1 0 0 0 0 1 0 0 0 0 1 0 0 0 0 0 0 0 0 1 0 0 0 0 0 0\n",
      " 0 0 0 0 0 1 0 1 0 1 0 0 0 0 1 0 0 0 1 0 1 0 0 0 0 0 0 1 1 1 0 0 0 1 0 0 0\n",
      " 0 0 0 0 0 1 0 0 0 1 0 0 1 1 0 0 0 0 0 0 0 1 1 1 0 0 0 0 0 0 0 0 0 0 0 1 0\n",
      " 0 1 1 0 0 0 1 1 0 0 1 0 1 0 0 0 0 0 0 0 0 0 0 0 0 1 0 0 0 0 0 0 0 1 1 0 0\n",
      " 0 1 0 0 1 1 0 0 0 0 0 0 1 0 0 0 0 0 0 0 0 0 0 0 0 0 0 0 1 0 0 1 0 0 0 0 0\n",
      " 0 0 0 0 0 0 0 0 0 0 1 0 0 1 1 1 1 0 0 1 0 0 0 0 0 0 1 1 0 0 0 1 0 1 0 1 1\n",
      " 1 0 1 0 0 0 0 0 0 0 0 1 1 1 0 0 1 0 1 1 1 0 0 0 0 0 0 0 0 0 0 0 0 0 1 0 0\n",
      " 0 0 0 0 1 0 0 1 0 0 0 0 0 0 0 0 0 0 0 1 0 0 0 0 0 0 0 0 1 1 0 0 0 0 0 0 0\n",
      " 0 0 1 1 1 0 0 0 0 0 0 0 0 0 1 1 0 0 0 0 0 0 0 0 0 1 0 0 0 0 1 1 1]\n"
     ]
    }
   ],
   "source": [
    "kmeans = KMeans(n_clusters=2,n_init=20,max_iter=500)\n",
    "pipeline = make_pipeline(scaler,kmeans)\n",
    "pipeline.fit(dfa2a9.values)\n",
    "print(\"Here are centroids:\")\n",
    "print(kmeans.cluster_centers_)\n",
    "labels = kmeans.labels_\n",
    "print(\"here are labels\")\n",
    "print(labels)"
   ]
  },
  {
   "cell_type": "markdown",
   "metadata": {},
   "source": [
    "DataFrame - 5pts\n",
    "\n",
    "Steps:\n",
    "1. Create a new column in your dataframe and add Kmeans labels.\n",
    "2. Change labels values so that 0 becomes 2 and 1 becomes 4.\n",
    "3. Print the first 15 records from your dataframe"
   ]
  },
  {
   "cell_type": "code",
   "execution_count": 160,
   "metadata": {},
   "outputs": [
    {
     "name": "stdout",
     "output_type": "stream",
     "text": [
      "    A2  A3  A4  A5  A6    A7  A8  A9  A10  CLASS  label\n",
      "0    5   1   1   1   2   1.0   3   1    1      2      2\n",
      "1    5   4   4   5   7  10.0   3   2    1      2      4\n",
      "..  ..  ..  ..  ..  ..   ...  ..  ..  ...    ...    ...\n",
      "13   1   1   1   1   2   3.0   3   1    1      2      2\n",
      "14   8   7   5  10   7   9.0   5   5    4      4      4\n",
      "\n",
      "[15 rows x 11 columns]\n"
     ]
    },
    {
     "name": "stderr",
     "output_type": "stream",
     "text": [
      "C:\\Users\\jjden\\AppData\\Roaming\\Python\\Python37\\site-packages\\pandas\\core\\generic.py:4388: FutureWarning: Attribute 'is_copy' is deprecated and will be removed in a future version.\n",
      "  object.__getattribute__(self, name)\n",
      "C:\\Users\\jjden\\AppData\\Roaming\\Python\\Python37\\site-packages\\pandas\\core\\generic.py:4389: FutureWarning: Attribute 'is_copy' is deprecated and will be removed in a future version.\n",
      "  return object.__setattr__(self, name, value)\n"
     ]
    }
   ],
   "source": [
    "dfa2a9.is_copy = False \n",
    "#add back column CLASS\n",
    "dfa2a9['CLASS'] = bcd['CLASS'].astype(int)\n",
    "dfa2a9['label'] = labels\n",
    "dfa2a9['label'] = dfa2a9['label'].replace(0,2)\n",
    "dfa2a9['label'] = dfa2a9['label'].replace(1,4)\n",
    "print(dfa2a9.head(15))"
   ]
  },
  {
   "cell_type": "markdown",
   "metadata": {},
   "source": [
    "Error Rate Function - 15 pts\n",
    "Note: 2 - benign cells; 4 - malign cells\n",
    "1. Create a function\n",
    "Your ErrorRate function will take TWO input arguments. First argument is cluster you obtained from your k-means algorithm (column labels), and second argument is the actual value (column CLASS) of cluster for a particular datapoint. The output from your function will be 1) error rate for benign cells, 2) error rate for malign cells, 3) total error rate.\n",
    "Calculate error rate using the following formula for each clusters:\n",
    "error for benign\n",
    "B = total number of points with predicted labels = 4 that correspond to CLASS = 2 / total number of predicted labels = 2\n",
    "error for malign\n",
    "M = total number of points with predicted labels = 2 that correspond to CLASS = 4 / total number of predicted labels = 4\n",
    "total error rate\n",
    "total number of datapoints with predicted labels (labels column) Not equal to actual class (CLASS column) / total number of datapoints\n",
    "2. Pass your columns values into function and print out the error rate values. You can add a descriptive text to your output. \n",
    "For example: \"error rate for benign: --, error rate for malign: --, total error rate: --\""
   ]
  },
  {
   "cell_type": "code",
   "execution_count": 159,
   "metadata": {},
   "outputs": [
    {
     "name": "stdout",
     "output_type": "stream",
     "text": [
      "error rate for benign: 0.017167381974248927\n",
      "error rate for malign: 0.027181688125894134\n",
      "total error rate: 0.044349070100143065\n",
      "     A2  A3  A4  A5  A6    A7  A8  A9  A10  CLASS  label\n",
      "0     5   1   1   1   2   1.0   3   1    1      2      2\n",
      "1     5   4   4   5   7  10.0   3   2    1      2      4\n",
      "..   ..  ..  ..  ..  ..   ...  ..  ..  ...    ...    ...\n",
      "697   4   8   6   4   3   4.0  10   6    1      4      4\n",
      "698   4   8   8   5   4   5.0  10   4    1      4      4\n",
      "\n",
      "[699 rows x 11 columns]\n"
     ]
    }
   ],
   "source": [
    "numBenignError = sum((dfa2a9.label == 4) & (dfa2a9.CLASS == 2))\n",
    "numMalignError = sum((dfa2a9.label == 2) & (dfa2a9.CLASS == 4))\n",
    "totalRecords = len(dfa2a9)\n",
    "\n",
    "print(\"error rate for benign: \" + str(numBenignError/totalRecords) )\n",
    "print(\"error rate for malign: \" + str(numMalignError/totalRecords) )\n",
    "print(\"total error rate: \" + str((numBenignError + numMalignError)/totalRecords) )\n",
    "print(dfa2a9)\n"
   ]
  },
  {
   "cell_type": "markdown",
   "metadata": {},
   "source": [
    "Report - 5pts\n",
    "\n",
    "Add your report statement (~150-200 words): your reflection on the final project results (Note - the aim of the final project is NOT to build an optimal model but to practice the workflow using python - so your results may not be the best.)"
   ]
  },
  {
   "cell_type": "markdown",
   "metadata": {},
   "source": [
    "The values change each time the code is executed as expected because the clusters are allocated a bit differently each time. The model seems to predict benign and malign pretty well with approximately a 4% error rate. The model could probably be trained to a higher degree of accuracy by increasing the number of initial centroids and iterations. Another way to increase accuracy would be by having a larger sample set. It's also interesting to note that there is higher variance in some of the columns - notably A9 and A7 - so having a larger sample set would probably help to narrow the overall confidence interval. \n",
    "\n",
    "I found this exercise a nice practice to pull together some of the elements that we've learned this semester in the class. I definitely enjoyed it since it made us think for ourselves. The datacamp exercises were a little bit too canned for my taste. They were simple to do but I think it was a difficult to develop confidence and overall understanding and retention without doing exercises like this one that we did for the final project.\n",
    "\n",
    "Also note that I didn't include an error rate function but directly calculated error rate. I found the description of the function contradictory and confusing but I understood the intent so I just directly calculated the final results - hope that is fine. Thanks."
   ]
  },
  {
   "cell_type": "code",
   "execution_count": null,
   "metadata": {},
   "outputs": [],
   "source": []
  }
 ],
 "metadata": {
  "kernelspec": {
   "display_name": "Python 3",
   "language": "python",
   "name": "python3"
  },
  "language_info": {
   "codemirror_mode": {
    "name": "ipython",
    "version": 3
   },
   "file_extension": ".py",
   "mimetype": "text/x-python",
   "name": "python",
   "nbconvert_exporter": "python",
   "pygments_lexer": "ipython3",
   "version": "3.7.0"
  }
 },
 "nbformat": 4,
 "nbformat_minor": 2
}
